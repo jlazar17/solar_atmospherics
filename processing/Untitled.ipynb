{
 "cells": [
  {
   "cell_type": "code",
   "execution_count": 1,
   "metadata": {},
   "outputs": [],
   "source": [
    "import numpy as np\n",
    "import h5py as h5\n",
    "from glob import glob\n",
    "import os\n",
    "import sys\n",
    "sys.path.append('/data/user/jlazar/.pylib/')\n",
    "from ipy_exit import ipy_exit"
   ]
  },
  {
   "cell_type": "code",
   "execution_count": 1,
   "metadata": {},
   "outputs": [
    {
     "ename": "NameError",
     "evalue": "name 'SignalFluxCalculator' is not defined",
     "output_type": "error",
     "traceback": [
      "\u001b[0;31m---------------------------------------------------------------------------\u001b[0m",
      "\u001b[0;31mNameError\u001b[0m                                 Traceback (most recent call last)",
      "\u001b[0;32m<ipython-input-1-9eb1692ae623>\u001b[0m in \u001b[0;36m<module>\u001b[0;34m()\u001b[0m\n\u001b[0;32m----> 1\u001b[0;31m \u001b[0msignalcalc\u001b[0m \u001b[0;34m=\u001b[0m \u001b[0mSignalFluxCalculator\u001b[0m\u001b[0;34m(\u001b[0m\u001b[0;36m1000\u001b[0m\u001b[0;34m,\u001b[0m \u001b[0;34m'../../solar_WIMP_v2/data/charon_fluxes/ch5-m1000_1AU_BRW.npy'\u001b[0m\u001b[0;34m)\u001b[0m\u001b[0;34m\u001b[0m\u001b[0m\n\u001b[0m",
      "\u001b[0;31mNameError\u001b[0m: name 'SignalFluxCalculator' is not defined"
     ]
    }
   ],
   "source": [
    "signalcalc = SignalFluxCalculator(1000, '../../solar_WIMP_v2/data/charon_fluxes/ch5-m1000_1AU_BRW.npy')"
   ]
  },
  {
   "cell_type": "code",
   "execution_count": 85,
   "metadata": {},
   "outputs": [
    {
     "name": "stdout",
     "output_type": "stream",
     "text": [
      "[(u'COGZ', '<f8'), (u'COGZSigma', '<f8'), (u'NuAzimuth', '<f8'), (u'NuEnergy', '<f8'), (u'NuZenith', '<f8'), (u'PrimaryType', '<f8'), (u'RLogL', '<f8'), (u'RecoAzimuth', '<f8'), (u'RecoZenith', '<f8'), (u'ZTravel', '<f8'), (u'oneweight', '<f8'), ('eff_oneweight', '<f8')]\n"
     ]
    }
   ],
   "source": [
    "# files = np.hstack([sorted(glob('data/NuMu/low_energy/hole_ice/p10.3_p20.0/h5/*')),\n",
    "#                    sorted(glob('data/NuMu/medium_energy/hole_ice/p10.3_p20.0/h5/*')),\n",
    "#                    sorted(glob('data/NuE/low_energy/hole_ice/p10.3_p20.0/h5/*')),\n",
    "#                    sorted(glob('data/NuE/medium_energy/hole_ice/p10.3_p20.0/h5/*')),\n",
    "#                   ]\n",
    "#                  )\n",
    "files = sorted(glob('data/nancy/h5/*'))\n",
    "descs = [(key, val['value'].dtype.descr[0][1]) for key,val in h5.File(files[0], 'r').items() if key!='__I3Index__']\n",
    "descs.append(('eff_oneweight', '<f8'))\n",
    "print(descs)"
   ]
  },
  {
   "cell_type": "code",
   "execution_count": 88,
   "metadata": {},
   "outputs": [],
   "source": [
    "files_arr = [sorted(glob('data/nancy/h5/*NuE*lowenergy*')),\n",
    "             sorted(glob('data/nancy/h5/*NuMu*lowenergy*')),\n",
    "             sorted(glob('data/nancy/h5/*NuE*mediumenergy*')),\n",
    "             sorted(glob('data/nancy/h5/*NuMu*mediumenergy*')),\n",
    "             sorted(glob('data/nancy/h5/*NuE*highenergy*')),\n",
    "             sorted(glob('data/nancy/h5/*NuMu*highenergy*')),\n",
    "            ]"
   ]
  },
  {
   "cell_type": "code",
   "execution_count": null,
   "metadata": {},
   "outputs": [],
   "source": []
  },
  {
   "cell_type": "code",
   "execution_count": 131,
   "metadata": {
    "scrolled": true
   },
   "outputs": [
    {
     "name": "stdout",
     "output_type": "stream",
     "text": [
      "data/merged/JLevel_NuE-NuMu-NuTau_le-me-he_holeice-0300_1.h5\n",
      "(u'COGZ', '<f8')\n",
      "(u'COGZSigma', '<f8')\n",
      "(u'NuAzimuth', '<f8')\n",
      "(u'NuEnergy', '<f8')\n",
      "(u'NuZenith', '<f8')\n",
      "(u'PrimaryType', '<f8')\n",
      "(u'RLogL', '<f8')\n",
      "(u'RecoAzimuth', '<f8')\n",
      "(u'RecoZenith', '<f8')\n",
      "(u'ZTravel', '<f8')\n",
      "(u'oneweight', '<f8')\n",
      "('eff_oneweight', '<f8')\n",
      "ch11-m100\n",
      "ch11-m200\n",
      "ch11-m300\n",
      "ch11-m80\n",
      "ch5-m100\n",
      "ch5-m200\n",
      "ch5-m300\n",
      "ch5-m80\n",
      "ch8-m100\n",
      "ch8-m200\n",
      "ch8-m300\n",
      "ch8-m80\n",
      "conv-atm\n",
      "solar-atm\n"
     ]
    }
   ],
   "source": [
    "fname = 'JLevel_NuE-NuMu-NuTau_le-me-he_holeice-0300_1'\n",
    "path = 'data/merged/%s.h5' % fname\n",
    "print(path)\n",
    "try:\n",
    "    os.remove(path)\n",
    "except OSError:\n",
    "    pass\n",
    "\n",
    "flux_files = sorted(glob('data/nancy/fluxes/*%s*' % fname))\n",
    "\n",
    "with h5.File(path, 'w') as wh5f:\n",
    "    for key, dtype in descs:\n",
    "        print(key, dtype)\n",
    "        dset = wh5f.create_dataset(key, (0,), dtype=dtype, maxshape=(None,), chunks=None)\n",
    "        for files in files_arr:\n",
    "            for f in files:\n",
    "                with h5.File(f, 'r') as rh5f:\n",
    "                    if len(rh5f.keys())>1:\n",
    "                        if key=='eff_oneweight':\n",
    "                            n = len(rh5f['oneweight'][()]['value'])\n",
    "                            dset.resize((dset.shape[0]+n,))\n",
    "                            dset[-n:] = rh5f['oneweight'][()]['value']/float(len(files))\n",
    "                        else:\n",
    "                            n = len(rh5f[key][()]['value'])\n",
    "                            dset.resize((dset.shape[0]+n,))\n",
    "                            dset[-n:] = rh5f[key][()]['value']\n",
    "                    else:\n",
    "                        pass\n",
    "    for ff in flux_files:\n",
    "        flux = u'%s' % ff.split('_')[-1].strip('.npy')\n",
    "        print(flux)\n",
    "        dset = wh5f.create_dataset_like(flux, wh5f['oneweight'])\n",
    "        dset[:] = np.load(ff)"
   ]
  },
  {
   "cell_type": "code",
   "execution_count": 136,
   "metadata": {},
   "outputs": [
    {
     "name": "stdout",
     "output_type": "stream",
     "text": [
      "[u'COGZ', u'COGZSigma', u'NuAzimuth', u'NuEnergy', u'NuZenith', u'PrimaryType', u'RLogL', u'RecoAzimuth', u'RecoZenith', u'ZTravel', u'ch11-m100', u'ch11-m200', u'ch11-m300', u'ch11-m80', u'ch5-m100', u'ch5-m200', u'ch5-m300', u'ch5-m80', u'ch8-m100', u'ch8-m200', u'ch8-m300', u'ch8-m80', u'conv-atm', u'eff_oneweight', u'oneweight', u'solar-atm']\n"
     ]
    },
    {
     "name": "stderr",
     "output_type": "stream",
     "text": [
      "/home/jlazar/.local/lib/python2.7/site-packages/ipykernel_launcher.py:1: H5pyDeprecationWarning: The default file mode will change to 'r' (read-only) in h5py 3.0. To suppress this warning, pass the mode you need to h5py.File(), or set the global default h5.get_config().default_file_mode, or set the environment variable H5PY_DEFAULT_READONLY=1. Available modes are: 'r', 'r+', 'w', 'w-'/'x', 'a'. See the docs for details.\n",
      "  \"\"\"Entry point for launching an IPython kernel.\n"
     ]
    }
   ],
   "source": [
    "with h5.File('/data/user/jlazar/solar_atmospherics/processing/data/merged/JLevel_NuE-NuMu-NuTau_le-me-he_holeice-0300_1.h5') as h5f:\n",
    "    print(h5f.keys())"
   ]
  },
  {
   "cell_type": "code",
   "execution_count": 158,
   "metadata": {},
   "outputs": [],
   "source": [
    "from signal_flux_calculator import SignalFluxCalculator"
   ]
  },
  {
   "cell_type": "code",
   "execution_count": 159,
   "metadata": {},
   "outputs": [
    {
     "ename": "TypeError",
     "evalue": "super() argument 1 must be type, not classobj",
     "output_type": "error",
     "traceback": [
      "\u001b[0;31m---------------------------------------------------------------------------\u001b[0m",
      "\u001b[0;31mTypeError\u001b[0m                                 Traceback (most recent call last)",
      "\u001b[0;32m<ipython-input-159-9eb1692ae623>\u001b[0m in \u001b[0;36m<module>\u001b[0;34m()\u001b[0m\n\u001b[0;32m----> 1\u001b[0;31m \u001b[0msignalcalc\u001b[0m \u001b[0;34m=\u001b[0m \u001b[0mSignalFluxCalculator\u001b[0m\u001b[0;34m(\u001b[0m\u001b[0;36m1000\u001b[0m\u001b[0;34m,\u001b[0m \u001b[0;34m'../../solar_WIMP_v2/data/charon_fluxes/ch5-m1000_1AU_BRW.npy'\u001b[0m\u001b[0;34m)\u001b[0m\u001b[0;34m\u001b[0m\u001b[0m\n\u001b[0m",
      "\u001b[0;32m/mnt/lfs7/user/jlazar/solar_atmospherics/processing/signal_flux_calculator.py\u001b[0m in \u001b[0;36m__init__\u001b[0;34m(self, init_flux_path, m)\u001b[0m\n\u001b[1;32m      4\u001b[0m     \u001b[0;32mdef\u001b[0m \u001b[0m__init__\u001b[0m\u001b[0;34m(\u001b[0m\u001b[0mself\u001b[0m\u001b[0;34m,\u001b[0m \u001b[0minit_flux_path\u001b[0m\u001b[0;34m,\u001b[0m \u001b[0mm\u001b[0m\u001b[0;34m)\u001b[0m\u001b[0;34m:\u001b[0m\u001b[0;34m\u001b[0m\u001b[0m\n\u001b[1;32m      5\u001b[0m         \u001b[0mself\u001b[0m\u001b[0;34m.\u001b[0m\u001b[0mm\u001b[0m \u001b[0;34m=\u001b[0m \u001b[0mm\u001b[0m\u001b[0;34m\u001b[0m\u001b[0m\n\u001b[0;32m----> 6\u001b[0;31m         \u001b[0msuper\u001b[0m\u001b[0;34m(\u001b[0m\u001b[0mSignalFluxCalculator\u001b[0m\u001b[0;34m,\u001b[0m \u001b[0mself\u001b[0m\u001b[0;34m)\u001b[0m\u001b[0;34m.\u001b[0m\u001b[0m__init__\u001b[0m\u001b[0;34m(\u001b[0m\u001b[0minit_flux_path\u001b[0m\u001b[0;34m)\u001b[0m\u001b[0;34m\u001b[0m\u001b[0m\n\u001b[0m\u001b[1;32m      7\u001b[0m \u001b[0;34m\u001b[0m\u001b[0m\n\u001b[1;32m      8\u001b[0m \u001b[0;34m\u001b[0m\u001b[0m\n",
      "\u001b[0;31mTypeError\u001b[0m: super() argument 1 must be type, not classobj"
     ]
    }
   ],
   "source": [
    "signalcalc = SignalFluxCalculator(1000, '../../solar_WIMP_v2/data/charon_fluxes/ch5-m1000_1AU_BRW.npy')"
   ]
  },
  {
   "cell_type": "code",
   "execution_count": null,
   "metadata": {},
   "outputs": [],
   "source": []
  }
 ],
 "metadata": {
  "kernelspec": {
   "display_name": "Python 2",
   "language": "python",
   "name": "python2"
  }
 },
 "nbformat": 4,
 "nbformat_minor": 2
}
